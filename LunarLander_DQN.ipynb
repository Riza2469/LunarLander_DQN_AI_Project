{
  "cells": [
    {
      "cell_type": "markdown",
      "metadata": {
        "id": "view-in-github",
        "colab_type": "text"
      },
      "source": [
        "<a href=\"https://colab.research.google.com/github/Riza2469/LunarLander_DQN_AI_Project/blob/main/LunarLander_DQN.ipynb\" target=\"_parent\"><img src=\"https://colab.research.google.com/assets/colab-badge.svg\" alt=\"Open In Colab\"/></a>"
      ]
    },
    {
      "cell_type": "markdown",
      "metadata": {
        "id": "LbZcI9ZXHl3a"
      },
      "source": [
        "# Deep Q-Learning for Lunar Landing"
      ]
    },
    {
      "cell_type": "markdown",
      "metadata": {
        "id": "E8yPRjteXgPb"
      },
      "source": [
        "## Part 0 - Installing the required packages and importing the libraries"
      ]
    },
    {
      "cell_type": "markdown",
      "metadata": {
        "id": "slEm5teGWjWU"
      },
      "source": [
        "### Installing Gymnasium"
      ]
    },
    {
      "cell_type": "code",
      "execution_count": null,
      "metadata": {
        "colab": {
          "background_save": true,
          "base_uri": "https://localhost:8080/"
        },
        "id": "dbnq3XpoKa_7",
        "outputId": "0e140f97-1136-42c6-fd97-264887857806"
      },
      "outputs": [
        {
          "name": "stdout",
          "output_type": "stream",
          "text": [
            "Collecting gymnasium\n",
            "  Downloading gymnasium-1.0.0-py3-none-any.whl.metadata (9.5 kB)\n",
            "Requirement already satisfied: numpy>=1.21.0 in /usr/local/lib/python3.10/dist-packages (from gymnasium) (1.26.4)\n",
            "Requirement already satisfied: cloudpickle>=1.2.0 in /usr/local/lib/python3.10/dist-packages (from gymnasium) (3.1.0)\n",
            "Requirement already satisfied: typing-extensions>=4.3.0 in /usr/local/lib/python3.10/dist-packages (from gymnasium) (4.12.2)\n",
            "Collecting farama-notifications>=0.0.1 (from gymnasium)\n",
            "  Downloading Farama_Notifications-0.0.4-py3-none-any.whl.metadata (558 bytes)\n",
            "Downloading gymnasium-1.0.0-py3-none-any.whl (958 kB)\n",
            "\u001b[2K   \u001b[90m━━━━━━━━━━━━━━━━━━━━━━━━━━━━━━━━━━━━━━━━\u001b[0m \u001b[32m958.1/958.1 kB\u001b[0m \u001b[31m10.9 MB/s\u001b[0m eta \u001b[36m0:00:00\u001b[0m\n",
            "\u001b[?25hDownloading Farama_Notifications-0.0.4-py3-none-any.whl (2.5 kB)\n",
            "Installing collected packages: farama-notifications, gymnasium\n",
            "Successfully installed farama-notifications-0.0.4 gymnasium-1.0.0\n",
            "Requirement already satisfied: gymnasium[accept-rom-license,atari] in /usr/local/lib/python3.10/dist-packages (1.0.0)\n",
            "\u001b[33mWARNING: gymnasium 1.0.0 does not provide the extra 'accept-rom-license'\u001b[0m\u001b[33m\n",
            "\u001b[0mRequirement already satisfied: numpy>=1.21.0 in /usr/local/lib/python3.10/dist-packages (from gymnasium[accept-rom-license,atari]) (1.26.4)\n",
            "Requirement already satisfied: cloudpickle>=1.2.0 in /usr/local/lib/python3.10/dist-packages (from gymnasium[accept-rom-license,atari]) (3.1.0)\n",
            "Requirement already satisfied: typing-extensions>=4.3.0 in /usr/local/lib/python3.10/dist-packages (from gymnasium[accept-rom-license,atari]) (4.12.2)\n",
            "Requirement already satisfied: farama-notifications>=0.0.1 in /usr/local/lib/python3.10/dist-packages (from gymnasium[accept-rom-license,atari]) (0.0.4)\n",
            "Collecting ale-py>=0.9 (from gymnasium[accept-rom-license,atari])\n",
            "  Downloading ale_py-0.10.1-cp310-cp310-manylinux_2_17_x86_64.manylinux2014_x86_64.whl.metadata (7.6 kB)\n",
            "Downloading ale_py-0.10.1-cp310-cp310-manylinux_2_17_x86_64.manylinux2014_x86_64.whl (2.1 MB)\n",
            "\u001b[2K   \u001b[90m━━━━━━━━━━━━━━━━━━━━━━━━━━━━━━━━━━━━━━━━\u001b[0m \u001b[32m2.1/2.1 MB\u001b[0m \u001b[31m18.8 MB/s\u001b[0m eta \u001b[36m0:00:00\u001b[0m\n",
            "\u001b[?25hInstalling collected packages: ale-py\n",
            "Successfully installed ale-py-0.10.1\n",
            "Reading package lists... Done\n",
            "Building dependency tree... Done\n",
            "Reading state information... Done\n",
            "The following additional packages will be installed:\n",
            "  swig4.0\n",
            "Suggested packages:\n",
            "  swig-doc swig-examples swig4.0-examples swig4.0-doc\n",
            "The following NEW packages will be installed:\n",
            "  swig swig4.0\n",
            "0 upgraded, 2 newly installed, 0 to remove and 49 not upgraded.\n",
            "Need to get 1,116 kB of archives.\n",
            "After this operation, 5,542 kB of additional disk space will be used.\n",
            "Get:1 http://archive.ubuntu.com/ubuntu jammy/universe amd64 swig4.0 amd64 4.0.2-1ubuntu1 [1,110 kB]\n",
            "Get:2 http://archive.ubuntu.com/ubuntu jammy/universe amd64 swig all 4.0.2-1ubuntu1 [5,632 B]\n",
            "Fetched 1,116 kB in 1s (1,181 kB/s)\n",
            "Selecting previously unselected package swig4.0.\n",
            "(Reading database ... 123623 files and directories currently installed.)\n",
            "Preparing to unpack .../swig4.0_4.0.2-1ubuntu1_amd64.deb ...\n",
            "Unpacking swig4.0 (4.0.2-1ubuntu1) ...\n",
            "Selecting previously unselected package swig.\n",
            "Preparing to unpack .../swig_4.0.2-1ubuntu1_all.deb ...\n",
            "Unpacking swig (4.0.2-1ubuntu1) ...\n",
            "Setting up swig4.0 (4.0.2-1ubuntu1) ...\n",
            "Setting up swig (4.0.2-1ubuntu1) ...\n",
            "Processing triggers for man-db (2.10.2-1) ...\n",
            "Requirement already satisfied: gymnasium[box2d] in /usr/local/lib/python3.10/dist-packages (1.0.0)\n",
            "Requirement already satisfied: numpy>=1.21.0 in /usr/local/lib/python3.10/dist-packages (from gymnasium[box2d]) (1.26.4)\n",
            "Requirement already satisfied: cloudpickle>=1.2.0 in /usr/local/lib/python3.10/dist-packages (from gymnasium[box2d]) (3.1.0)\n",
            "Requirement already satisfied: typing-extensions>=4.3.0 in /usr/local/lib/python3.10/dist-packages (from gymnasium[box2d]) (4.12.2)\n",
            "Requirement already satisfied: farama-notifications>=0.0.1 in /usr/local/lib/python3.10/dist-packages (from gymnasium[box2d]) (0.0.4)\n",
            "Collecting box2d-py==2.3.5 (from gymnasium[box2d])\n",
            "  Downloading box2d-py-2.3.5.tar.gz (374 kB)\n",
            "\u001b[2K     \u001b[90m━━━━━━━━━━━━━━━━━━━━━━━━━━━━━━━━━━━━━━━━\u001b[0m \u001b[32m374.4/374.4 kB\u001b[0m \u001b[31m6.1 MB/s\u001b[0m eta \u001b[36m0:00:00\u001b[0m\n",
            "\u001b[?25h  Preparing metadata (setup.py) ... \u001b[?25l\u001b[?25hdone\n",
            "Requirement already satisfied: pygame>=2.1.3 in /usr/local/lib/python3.10/dist-packages (from gymnasium[box2d]) (2.6.1)\n",
            "Collecting swig==4.* (from gymnasium[box2d])\n",
            "  Downloading swig-4.2.1.post0-py2.py3-none-manylinux_2_5_x86_64.manylinux1_x86_64.whl.metadata (3.5 kB)\n",
            "Downloading swig-4.2.1.post0-py2.py3-none-manylinux_2_5_x86_64.manylinux1_x86_64.whl (1.8 MB)\n",
            "\u001b[2K   \u001b[90m━━━━━━━━━━━━━━━━━━━━━━━━━━━━━━━━━━━━━━━━\u001b[0m \u001b[32m1.8/1.8 MB\u001b[0m \u001b[31m38.4 MB/s\u001b[0m eta \u001b[36m0:00:00\u001b[0m\n",
            "\u001b[?25hBuilding wheels for collected packages: box2d-py\n",
            "  Building wheel for box2d-py (setup.py) ... \u001b[?25l\u001b[?25hdone\n",
            "  Created wheel for box2d-py: filename=box2d_py-2.3.5-cp310-cp310-linux_x86_64.whl size=2349115 sha256=daab60f2fa01b99895e457da0d7bcf220d20006d93b7c9a00437399835e7625d\n",
            "  Stored in directory: /root/.cache/pip/wheels/db/8f/6a/eaaadf056fba10a98d986f6dce954e6201ba3126926fc5ad9e\n",
            "Successfully built box2d-py\n",
            "Installing collected packages: swig, box2d-py\n",
            "Successfully installed box2d-py-2.3.5 swig-4.2.1.post0\n"
          ]
        }
      ],
      "source": [
        "!pip install gymnasium\n",
        "!pip install \"gymnasium[atari, accept-rom-license]\"\n",
        "!apt-get install -y swig\n",
        "!pip install gymnasium[box2d]"
      ]
    },
    {
      "cell_type": "markdown",
      "metadata": {
        "id": "brqiMN3UW9T9"
      },
      "source": [
        "### Importing the libraries"
      ]
    },
    {
      "cell_type": "code",
      "execution_count": null,
      "metadata": {
        "id": "mZaKXP_aMl9O"
      },
      "outputs": [],
      "source": [
        "import os\n",
        "import random\n",
        "import numpy as np\n",
        "import torch\n",
        "import torch.nn as nn\n",
        "import torch.optim as optim\n",
        "import torch.nn.functional as F\n",
        "import torch.autograd as autograd\n",
        "from torch.autograd import Variable\n",
        "from collections import deque, namedtuple"
      ]
    },
    {
      "cell_type": "markdown",
      "metadata": {
        "id": "EzlDKXvkXzGI"
      },
      "source": [
        "## Part 1 - Building the AI"
      ]
    },
    {
      "cell_type": "markdown",
      "metadata": {
        "id": "UtG6Zc83YYy3"
      },
      "source": [
        "### Creating the architecture of the Neural Network"
      ]
    },
    {
      "cell_type": "code",
      "execution_count": null,
      "metadata": {
        "id": "fVde7jiAce-w"
      },
      "outputs": [],
      "source": [
        "class Network(nn.Module):\n",
        "  def __init__(self, state_size, action_size, seed = 42):\n",
        "    super(Network, self).__init__()\n",
        "    self.seed = torch.manual_seed(seed)\n",
        "    self.fc1 = nn.Linear(state_size, 64)\n",
        "    self.fc2 = nn.Linear(64, 64)\n",
        "    self.fc3 = nn.Linear(64, action_size)\n",
        "\n",
        "  def forward(self, state):\n",
        "    x = self.fc1(state)\n",
        "    x = F.relu(x)\n",
        "    x = self.fc2(x)\n",
        "    x = F.relu(x)\n",
        "    return self.fc3(x)"
      ]
    },
    {
      "cell_type": "markdown",
      "metadata": {
        "id": "UxVrBnFWZKb1"
      },
      "source": [
        "## Part 2 - Training the AI"
      ]
    },
    {
      "cell_type": "markdown",
      "metadata": {
        "id": "T364fz9qZb2j"
      },
      "source": [
        "### Setting up the environment"
      ]
    },
    {
      "cell_type": "code",
      "execution_count": null,
      "metadata": {
        "colab": {
          "background_save": true
        },
        "id": "41sgnpCwtd5f",
        "outputId": "e1c8658b-a8c3-48da-93ac-0f08da14bfcd"
      },
      "outputs": [
        {
          "name": "stdout",
          "output_type": "stream",
          "text": [
            "State shape: (8,)\n",
            "State size: 8\n",
            "Number of actions:  4\n"
          ]
        }
      ],
      "source": [
        "import gymnasium as gym\n",
        "env = gym.make('LunarLander-v3')\n",
        "state_shape = env.observation_space.shape\n",
        "state_size = env.observation_space.shape[0]\n",
        "number_actions = env.action_space.n\n",
        "print('State shape:', state_shape)\n",
        "print('State size:', state_size)\n",
        "print('Number of actions: ', number_actions)"
      ]
    },
    {
      "cell_type": "markdown",
      "metadata": {
        "id": "c_dZmOIvZgj-"
      },
      "source": [
        "### Initializing the hyperparameters"
      ]
    },
    {
      "cell_type": "code",
      "execution_count": null,
      "metadata": {
        "colab": {
          "background_save": true
        },
        "id": "o91EGYhHzJx7"
      },
      "outputs": [],
      "source": [
        "# Learning rate controls the step size during the weight updates.\n",
        "# Common range: 1e-5 to 1e-2 (0.00001 to 0.01)\n",
        "learning_rate = 5e-4  # 5 times 10 to the power of -4\n",
        "\n",
        "# Minibatch size defines the number of experiences used in each training update.\n",
        "# Common range: 32 to 256 (smaller values may work better for noisy environments)\n",
        "minibatch_size = 100\n",
        "\n",
        "# Discount factor determines the importance of future rewards vs. immediate rewards.\n",
        "# Common range: 0.90 to 0.99 (0 to 1, where values close to 1 encourage long-term planning)\n",
        "discount_factor = 0.99\n",
        "\n",
        "# Replay buffer size specifies the maximum number of experiences stored for training.\n",
        "# Common range: 10,000 to 1,000,000 (the size can vary based on memory availability)\n",
        "replay_buffer_size = int(1e5)  # 100,000 experiences\n",
        "\n",
        "# Interpolation parameter often used in prioritized experience replay or blending techniques.\n",
        "# Common range: 1e-5 to 1e-2 (typically small values to prevent drastic updates)\n",
        "interpolation_parameter = 1e-3"
      ]
    },
    {
      "cell_type": "markdown",
      "metadata": {
        "id": "8hD_Vs-bYnip"
      },
      "source": [
        "### Implementing Experience Replay"
      ]
    },
    {
      "cell_type": "code",
      "execution_count": null,
      "metadata": {
        "colab": {
          "background_save": true
        },
        "id": "xOtcuz0JWj9K"
      },
      "outputs": [],
      "source": [
        "class ReplayMemory(object):\n",
        "\n",
        "  def __init__(self, capacity):\n",
        "    self.device = torch.device(\"cuda:0\" if torch.cuda.is_available() else \"cpu\")\n",
        "    self.capacity = capacity\n",
        "    self.memory = []\n",
        "\n",
        "  def push(self, event):\n",
        "    self.memory.append(event)\n",
        "    if len(self.memory) > self.capacity:\n",
        "      del self.memory[0]\n",
        "\n",
        "  def sample(self, batch_size):\n",
        "    experiences = random.sample(self.memory, k=batch_size)\n",
        "    states = torch.from_numpy(np.vstack([e[0] for e in experiences if e is not None])).float().to(self.device)\n",
        "    actions = torch.from_numpy(np.vstack([e[1] for e in experiences if e is not None])).long().to(self.device)\n",
        "    rewards = torch.from_numpy(np.vstack([e[2] for e in experiences if e is not None])).float().to(self.device)\n",
        "    next_states = torch.from_numpy(np.vstack([e[3] for e in experiences if e is not None])).float().to(self.device)\n",
        "    dones = torch.from_numpy(np.vstack([e[4] for e in experiences if e is not None]).astype(np.uint8)).float().to(self.device)\n",
        "    return states, next_states, actions, rewards, dones"
      ]
    },
    {
      "cell_type": "markdown",
      "metadata": {
        "id": "JmEkbFbUY6Jt"
      },
      "source": [
        "### Implementing the DQN class"
      ]
    },
    {
      "cell_type": "code",
      "execution_count": null,
      "metadata": {
        "colab": {
          "background_save": true
        },
        "id": "0ji9L_erb5LC"
      },
      "outputs": [],
      "source": [
        "class Agent():\n",
        "\n",
        "  def __init__(self, state_size, action_size):\n",
        "    self.device = torch.device(\"cuda:0\" if torch.cuda.is_available() else \"cpu\")\n",
        "    self.state_size = state_size\n",
        "    self.action_size = action_size\n",
        "    self.local_qnetwork = Network(state_size, action_size).to(self.device)\n",
        "    self.target_qnetwork = Network(state_size, action_size).to(self.device)\n",
        "    self.optimizer = optim.Adam(self.local_qnetwork.parameters(), lr=learning_rate)\n",
        "    self.memory = ReplayMemory(replay_buffer_size)\n",
        "    self.t_step = 0\n",
        "\n",
        "  def step(self, state, action, reward, next_state, done):\n",
        "    self.memory.push((state, action, reward, next_state, done))\n",
        "    self.t_step = (self.t_step + 1) % 4\n",
        "    if self.t_step == 0:\n",
        "      if len(self.memory.memory) > minibatch_size:\n",
        "        experiences = self.memory.sample(100)\n",
        "        self.learn(experiences, discount_factor)\n",
        "\n",
        "  def act(self, state, epsilon = 0.):\n",
        "    state = torch.from_numpy(state).float().unsqueeze(0).to(self.device)\n",
        "    self.local_qnetwork.eval()\n",
        "    with torch.no_grad():\n",
        "      action_values = self.local_qnetwork(state)\n",
        "    self.local_qnetwork.train()\n",
        "    if random.random() > epsilon:\n",
        "      return np.argmax(action_values.cpu().data.numpy())\n",
        "    else:\n",
        "      return random.choice(np.arange(self.action_size))\n",
        "\n",
        "  def learn(self, experiences, discount_factor):\n",
        "    states, next_states, actions, rewards, dones = experiences\n",
        "    next_q_targets = self.target_qnetwork(next_states).detach().max(1)[0].unsqueeze(1)\n",
        "    q_targets = rewards + (discount_factor * next_q_targets * (1-dones))\n",
        "    q_expected = self.local_qnetwork(states).gather(1, actions)\n",
        "    loss = F.mse_loss(q_expected, q_targets)\n",
        "    self.optimizer.zero_grad()\n",
        "    loss.backward()\n",
        "    self.optimizer.step()\n",
        "    self.soft_update(self.local_qnetwork, self.target_qnetwork, interpolation_parameter)\n",
        "\n",
        "  def soft_update(self, local_model, target_model, interpolation_parameter):\n",
        "    for target_param, local_param in zip(target_model.parameters(), local_model.parameters()):\n",
        "      target_param.data.copy_(interpolation_parameter * local_param.data + (1.0 - interpolation_parameter) * target_param.data)"
      ]
    },
    {
      "cell_type": "markdown",
      "metadata": {
        "id": "o1tZElccZmf6"
      },
      "source": [
        "### Initializing the DQN agent"
      ]
    },
    {
      "cell_type": "code",
      "execution_count": null,
      "metadata": {
        "colab": {
          "background_save": true
        },
        "id": "IATm_bNr-bur"
      },
      "outputs": [],
      "source": [
        "agent = Agent(state_size, number_actions)"
      ]
    },
    {
      "cell_type": "markdown",
      "metadata": {
        "id": "E8v0PtUfaVQp"
      },
      "source": [
        "### Training the DQN agent"
      ]
    },
    {
      "cell_type": "code",
      "execution_count": 12,
      "metadata": {
        "colab": {
          "base_uri": "https://localhost:8080/"
        },
        "id": "jv4HrXj7_F7r",
        "outputId": "72682df8-2875-49e8-e9cd-657d4b6d0127"
      },
      "outputs": [
        {
          "output_type": "stream",
          "name": "stdout",
          "text": [
            "Episode 100\tAverage Score: -90.99\n",
            "Episode 200\tAverage Score: -10.14\n",
            "Episode 300\tAverage Score: 69.66\n",
            "Episode 400\tAverage Score: 164.19\n",
            "Episode 447\tAverage Score: 201.10\n",
            "Environment solved in 347\tAverage Score: 201.10\n"
          ]
        }
      ],
      "source": [
        "number_episodes = 2000\n",
        "maxnum_timesteps_per_ep = 1000\n",
        "epsilon_starting_value = 1.0\n",
        "epsilon_ending_value = 0.01\n",
        "epsilon_decay_value = 0.995\n",
        "epsilon = epsilon_starting_value\n",
        "scores_on_100_eps = deque(maxlen = 100) # double ended queue\n",
        "\n",
        "for episode in range(1, number_episodes + 1):\n",
        "  state, _ = env.reset()\n",
        "  score = 0\n",
        "  for t in range(maxnum_timesteps_per_ep):\n",
        "    action = agent.act(state, epsilon)\n",
        "    next_state, reward, done, _, _ = env.step(action)\n",
        "    agent.step(state, action, reward, next_state, done)\n",
        "    state = next_state\n",
        "    score += reward\n",
        "    if done:\n",
        "      break\n",
        "  scores_on_100_eps.append(score)\n",
        "  epsilon = max(epsilon_ending_value, epsilon_decay_value * epsilon)\n",
        "  print('\\rEpisode {}\\tAverage Score: {:.2f}'.format(episode, np.mean(scores_on_100_eps)),end = \"\")\n",
        "  if episode % 100 == 0:\n",
        "    print('\\rEpisode {}\\tAverage Score: {:.2f}'.format(episode, np.mean(scores_on_100_eps)))\n",
        "  if np.mean(scores_on_100_eps) >= 200.0:\n",
        "    print('\\nEnvironment solved in {:d}\\tAverage Score: {:.2f}'.format(episode-100, np.mean(scores_on_100_eps)))\n",
        "    torch.save(agent.local_qnetwork.state_dict(), 'checkpoint.pth')\n",
        "    break"
      ]
    },
    {
      "cell_type": "markdown",
      "metadata": {
        "id": "O8CNwdOTcCoP"
      },
      "source": [
        "## Part 3 - Visualizing the results"
      ]
    },
    {
      "cell_type": "code",
      "execution_count": 13,
      "metadata": {
        "colab": {
          "base_uri": "https://localhost:8080/",
          "height": 459
        },
        "id": "cb9nVvU2Okhk",
        "outputId": "f90f128f-d5a6-4203-8dfe-01c8eec9723b"
      },
      "outputs": [
        {
          "output_type": "stream",
          "name": "stderr",
          "text": [
            "WARNING:imageio_ffmpeg:IMAGEIO FFMPEG_WRITER WARNING: input image is not divisible by macro_block_size=16, resizing from (600, 400) to (608, 400) to ensure video compatibility with most codecs and players. To prevent resizing, make your input image divisible by the macro_block_size or set the macro_block_size to 1 (risking incompatibility).\n"
          ]
        },
        {
          "output_type": "display_data",
          "data": {
            "text/plain": [
              "<IPython.core.display.HTML object>"
            ],
            "text/html": [
              "<video alt=\"test\" autoplay\n",
              "                loop controls style=\"height: 400px;\">\n",
              "                <source src=\"data:video/mp4;base64,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\" type=\"video/mp4\" />\n",
              "             </video>"
            ]
          },
          "metadata": {}
        }
      ],
      "source": [
        "import glob\n",
        "import io\n",
        "import base64\n",
        "import imageio\n",
        "from IPython.display import HTML, display\n",
        "\n",
        "def show_video_of_model(agent, env_name):\n",
        "    env = gym.make(env_name, render_mode='rgb_array')\n",
        "    state, _ = env.reset()\n",
        "    done = False\n",
        "    frames = []\n",
        "    while not done:\n",
        "        frame = env.render()\n",
        "        frames.append(frame)\n",
        "        action = agent.act(state)\n",
        "        state, reward, done, _, _ = env.step(action.item())\n",
        "    env.close()\n",
        "    imageio.mimsave('video.mp4', frames, fps=30)\n",
        "\n",
        "show_video_of_model(agent, 'LunarLander-v3')\n",
        "\n",
        "def show_video():\n",
        "    mp4list = glob.glob('*.mp4')\n",
        "    if len(mp4list) > 0:\n",
        "        mp4 = mp4list[0]\n",
        "        video = io.open(mp4, 'r+b').read()\n",
        "        encoded = base64.b64encode(video)\n",
        "        display(HTML(data='''<video alt=\"test\" autoplay\n",
        "                loop controls style=\"height: 400px;\">\n",
        "                <source src=\"data:video/mp4;base64,{0}\" type=\"video/mp4\" />\n",
        "             </video>'''.format(encoded.decode('ascii'))))\n",
        "    else:\n",
        "        print(\"Could not find video\")\n",
        "\n",
        "show_video()"
      ]
    }
  ],
  "metadata": {
    "accelerator": "GPU",
    "colab": {
      "gpuType": "T4",
      "provenance": [],
      "include_colab_link": true
    },
    "kernelspec": {
      "display_name": "Python 3",
      "name": "python3"
    },
    "language_info": {
      "name": "python"
    }
  },
  "nbformat": 4,
  "nbformat_minor": 0
}